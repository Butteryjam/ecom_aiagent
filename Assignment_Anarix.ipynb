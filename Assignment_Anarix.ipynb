{
  "nbformat": 4,
  "nbformat_minor": 0,
  "metadata": {
    "colab": {
      "provenance": []
    },
    "kernelspec": {
      "name": "python3",
      "display_name": "Python 3"
    },
    "language_info": {
      "name": "python"
    }
  },
  "cells": [
    {
      "cell_type": "code",
      "source": [
        "!pip install --upgrade google-generativeai openpyxl pandas tabulate"
      ],
      "metadata": {
        "id": "0HkIf7hKP7O5"
      },
      "execution_count": null,
      "outputs": []
    },
    {
      "cell_type": "code",
      "source": [
        "import pandas as pd\n",
        "import sqlite3\n",
        "import google.generativeai as genai\n",
        "from tabulate import tabulate"
      ],
      "metadata": {
        "id": "eTsXD-1cs08s"
      },
      "execution_count": null,
      "outputs": []
    },
    {
      "cell_type": "code",
      "source": [
        "\n",
        "genai.configure(api_key=GEMINI_API_KEY)\n",
        "model = genai.GenerativeModel(\"gemini-1.5-flash\")"
      ],
      "metadata": {
        "id": "wfkypFF0s15k"
      },
      "execution_count": 2,
      "outputs": []
    },
    {
      "cell_type": "code",
      "source": [
        "ad_sales = pd.read_excel(\"Product-Level Ad Sales and Metrics (mapped).xlsx\")\n",
        "total_sales = pd.read_excel(\"Product-Level Total Sales and Metrics (mapped).xlsx\")\n",
        "eligibility = pd.read_excel(\"Product-Level Eligibility Table (mapped).xlsx\")"
      ],
      "metadata": {
        "id": "uSXolAlrs9w1"
      },
      "execution_count": 3,
      "outputs": []
    },
    {
      "cell_type": "code",
      "source": [
        "conn = sqlite3.connect(\":memory:\")\n",
        "ad_sales.to_sql(\"ad_sales\", conn, if_exists=\"replace\", index=False)\n",
        "total_sales.to_sql(\"total_sales\", conn, if_exists=\"replace\", index=False)\n",
        "eligibility.to_sql(\"eligibility\", conn, if_exists=\"replace\", index=False)\n"
      ],
      "metadata": {
        "colab": {
          "base_uri": "https://localhost:8080/"
        },
        "id": "-yiolWNxs_lJ",
        "outputId": "7a4924e7-2d97-49fc-bf53-8beb6cec95c7"
      },
      "execution_count": 4,
      "outputs": [
        {
          "output_type": "execute_result",
          "data": {
            "text/plain": [
              "4381"
            ]
          },
          "metadata": {},
          "execution_count": 4
        }
      ]
    },
    {
      "cell_type": "code",
      "source": [
        "print(\"\\nAd Sales Metrics:\\n\", ad_sales.head())\n",
        "print(\"\\nTotal Sales Metrics:\\n\", total_sales.head())\n",
        "print(\"\\nEligibility Table:\\n\", eligibility.head())\n"
      ],
      "metadata": {
        "colab": {
          "base_uri": "https://localhost:8080/"
        },
        "id": "2PbB4bwbtP94",
        "outputId": "1a6a085a-6ac5-4716-bee0-61f7e0349123"
      },
      "execution_count": 6,
      "outputs": [
        {
          "output_type": "stream",
          "name": "stdout",
          "text": [
            "\n",
            "Ad Sales Metrics:\n",
            "         date  item_id  ad_sales  impressions  ad_spend  clicks  units_sold\n",
            "0 2025-06-01        0    332.96         1963     16.87       8           3\n",
            "1 2025-06-01        1      0.00         1764     20.39      11           0\n",
            "2 2025-06-01        2     95.99          169      0.48       0           1\n",
            "3 2025-06-01        3   1001.93         6943     75.69      31           9\n",
            "4 2025-06-01        4   1096.98        59046    401.39     285           5\n",
            "\n",
            "Total Sales Metrics:\n",
            "         date  item_id  total_sales  total_units_ordered\n",
            "0 2025-06-01        0       309.99                    1\n",
            "1 2025-06-01        3       338.00                    2\n",
            "2 2025-06-01        4       617.99                    3\n",
            "3 2025-06-01        9       219.00                    1\n",
            "4 2025-06-01       12       534.00                    3\n",
            "\n",
            "Eligibility Table:\n",
            "   eligibility_datetime_utc  item_id  eligibility  \\\n",
            "0  2025-06-04 08:50:07.115       29        False   \n",
            "1  2025-06-04 08:50:07.115      270         True   \n",
            "2  2025-06-04 08:50:07.115       31         True   \n",
            "3  2025-06-04 08:50:07.115       26         True   \n",
            "4  2025-06-04 08:50:07.115       25         True   \n",
            "\n",
            "                                             message  \n",
            "0  This product's cost to Amazon does not allow u...  \n",
            "1                                                NaN  \n",
            "2                                                NaN  \n",
            "3                                                NaN  \n",
            "4                                                NaN  \n"
          ]
        }
      ]
    },
    {
      "cell_type": "code",
      "source": [
        "def get_schema():\n",
        "    def table_info(df, name):\n",
        "        return f\"TABLE {name} ({', '.join(f'{col} {str(dt)}' for col,dt in zip(df.columns, df.dtypes))})\"\n",
        "    return \"\\n\".join([table_info(ad_sales,'ad_sales'), table_info(total_sales,'total_sales'), table_info(eligibility,'eligibility')])"
      ],
      "metadata": {
        "id": "T-YCgziOtBz4"
      },
      "execution_count": 7,
      "outputs": []
    },
    {
      "cell_type": "code",
      "source": [
        "def nl2sql(question: str) -> str:\n",
        "    schema = get_schema()\n",
        "    prompt = f\"\"\"You are a data assistant. Given the tables and the user question, write a single SQLite SQL query to answer it.\n",
        "Tables:\n",
        "{schema}\n",
        "\n",
        "Question: {question}\n",
        "\n",
        "Reply with only a valid SQL query. Do not explain. Do not use LIMIT unless the question asks for a sample.\n",
        "\"\"\"\n",
        "    response = model.generate_content(prompt)\n",
        "    # Remove formatting if Gemini wraps in ```\n",
        "    sql = response.text.strip().split('\\n')\n",
        "    for s in sql:\n",
        "        if s.strip().lower().startswith(\"select\"):\n",
        "            return s.strip()\n",
        "    return response.text.strip()\n"
      ],
      "metadata": {
        "id": "FYTC7C8sP7K5"
      },
      "execution_count": 8,
      "outputs": []
    },
    {
      "cell_type": "code",
      "source": [
        "def run_sql(sql):\n",
        "    try:\n",
        "        df = pd.read_sql_query(sql, conn)\n",
        "        return df\n",
        "    except Exception as e:\n",
        "        return f\"SQL error: {e}\"\n",
        "\n",
        "def pretty(df):\n",
        "    if isinstance(df, str):\n",
        "        return df\n",
        "    if isinstance(df, pd.DataFrame) and df.shape == (1, 1):\n",
        "        v = df.iloc[0, 0]\n",
        "        # Formatting for float, int, or None/NaN\n",
        "        if v is None or (isinstance(v, float) and pd.isnull(v)):\n",
        "            return \"No data.\"\n",
        "        return f\"**{v:,.2f}**\" if isinstance(v, (int, float)) else str(v)\n",
        "    return tabulate(df, headers='keys', tablefmt='github', showindex=False)"
      ],
      "metadata": {
        "id": "yVnaM-gbtoG6"
      },
      "execution_count": 9,
      "outputs": []
    },
    {
      "cell_type": "code",
      "source": [
        "def ask(question):\n",
        "    print(f\"\\nUser: {question}\\n\")\n",
        "    sql = nl2sql(question)\n",
        "    print(f\"Generated SQL:\\n{sql}\\n\")\n",
        "    result = run_sql(sql)\n",
        "    print(\"Answer:\")\n",
        "    print(pretty(result))\n",
        "    return result\n"
      ],
      "metadata": {
        "id": "Pp5F1BGxtr2S"
      },
      "execution_count": 10,
      "outputs": []
    },
    {
      "cell_type": "code",
      "source": [
        "# 1. What is my total sales?\n",
        "ask(\"What is my total sales?\")\n",
        "\n",
        "\n",
        "\n"
      ],
      "metadata": {
        "colab": {
          "base_uri": "https://localhost:8080/",
          "height": 220
        },
        "id": "s5fuhAjHtuct",
        "outputId": "7e10c22d-1771-400a-8291-16aabeb969bb"
      },
      "execution_count": 12,
      "outputs": [
        {
          "output_type": "stream",
          "name": "stdout",
          "text": [
            "\n",
            "User: What is my total sales?\n",
            "\n",
            "Generated SQL:\n",
            "SELECT SUM(total_sales) FROM total_sales;\n",
            "\n",
            "Answer:\n",
            "**1,004,904.56**\n"
          ]
        },
        {
          "output_type": "execute_result",
          "data": {
            "text/plain": [
              "   SUM(total_sales)\n",
              "0        1004904.56"
            ],
            "text/html": [
              "\n",
              "  <div id=\"df-b6085959-da8f-48e0-bbf1-f4186fef6a93\" class=\"colab-df-container\">\n",
              "    <div>\n",
              "<style scoped>\n",
              "    .dataframe tbody tr th:only-of-type {\n",
              "        vertical-align: middle;\n",
              "    }\n",
              "\n",
              "    .dataframe tbody tr th {\n",
              "        vertical-align: top;\n",
              "    }\n",
              "\n",
              "    .dataframe thead th {\n",
              "        text-align: right;\n",
              "    }\n",
              "</style>\n",
              "<table border=\"1\" class=\"dataframe\">\n",
              "  <thead>\n",
              "    <tr style=\"text-align: right;\">\n",
              "      <th></th>\n",
              "      <th>SUM(total_sales)</th>\n",
              "    </tr>\n",
              "  </thead>\n",
              "  <tbody>\n",
              "    <tr>\n",
              "      <th>0</th>\n",
              "      <td>1004904.56</td>\n",
              "    </tr>\n",
              "  </tbody>\n",
              "</table>\n",
              "</div>\n",
              "    <div class=\"colab-df-buttons\">\n",
              "\n",
              "  <div class=\"colab-df-container\">\n",
              "    <button class=\"colab-df-convert\" onclick=\"convertToInteractive('df-b6085959-da8f-48e0-bbf1-f4186fef6a93')\"\n",
              "            title=\"Convert this dataframe to an interactive table.\"\n",
              "            style=\"display:none;\">\n",
              "\n",
              "  <svg xmlns=\"http://www.w3.org/2000/svg\" height=\"24px\" viewBox=\"0 -960 960 960\">\n",
              "    <path d=\"M120-120v-720h720v720H120Zm60-500h600v-160H180v160Zm220 220h160v-160H400v160Zm0 220h160v-160H400v160ZM180-400h160v-160H180v160Zm440 0h160v-160H620v160ZM180-180h160v-160H180v160Zm440 0h160v-160H620v160Z\"/>\n",
              "  </svg>\n",
              "    </button>\n",
              "\n",
              "  <style>\n",
              "    .colab-df-container {\n",
              "      display:flex;\n",
              "      gap: 12px;\n",
              "    }\n",
              "\n",
              "    .colab-df-convert {\n",
              "      background-color: #E8F0FE;\n",
              "      border: none;\n",
              "      border-radius: 50%;\n",
              "      cursor: pointer;\n",
              "      display: none;\n",
              "      fill: #1967D2;\n",
              "      height: 32px;\n",
              "      padding: 0 0 0 0;\n",
              "      width: 32px;\n",
              "    }\n",
              "\n",
              "    .colab-df-convert:hover {\n",
              "      background-color: #E2EBFA;\n",
              "      box-shadow: 0px 1px 2px rgba(60, 64, 67, 0.3), 0px 1px 3px 1px rgba(60, 64, 67, 0.15);\n",
              "      fill: #174EA6;\n",
              "    }\n",
              "\n",
              "    .colab-df-buttons div {\n",
              "      margin-bottom: 4px;\n",
              "    }\n",
              "\n",
              "    [theme=dark] .colab-df-convert {\n",
              "      background-color: #3B4455;\n",
              "      fill: #D2E3FC;\n",
              "    }\n",
              "\n",
              "    [theme=dark] .colab-df-convert:hover {\n",
              "      background-color: #434B5C;\n",
              "      box-shadow: 0px 1px 3px 1px rgba(0, 0, 0, 0.15);\n",
              "      filter: drop-shadow(0px 1px 2px rgba(0, 0, 0, 0.3));\n",
              "      fill: #FFFFFF;\n",
              "    }\n",
              "  </style>\n",
              "\n",
              "    <script>\n",
              "      const buttonEl =\n",
              "        document.querySelector('#df-b6085959-da8f-48e0-bbf1-f4186fef6a93 button.colab-df-convert');\n",
              "      buttonEl.style.display =\n",
              "        google.colab.kernel.accessAllowed ? 'block' : 'none';\n",
              "\n",
              "      async function convertToInteractive(key) {\n",
              "        const element = document.querySelector('#df-b6085959-da8f-48e0-bbf1-f4186fef6a93');\n",
              "        const dataTable =\n",
              "          await google.colab.kernel.invokeFunction('convertToInteractive',\n",
              "                                                    [key], {});\n",
              "        if (!dataTable) return;\n",
              "\n",
              "        const docLinkHtml = 'Like what you see? Visit the ' +\n",
              "          '<a target=\"_blank\" href=https://colab.research.google.com/notebooks/data_table.ipynb>data table notebook</a>'\n",
              "          + ' to learn more about interactive tables.';\n",
              "        element.innerHTML = '';\n",
              "        dataTable['output_type'] = 'display_data';\n",
              "        await google.colab.output.renderOutput(dataTable, element);\n",
              "        const docLink = document.createElement('div');\n",
              "        docLink.innerHTML = docLinkHtml;\n",
              "        element.appendChild(docLink);\n",
              "      }\n",
              "    </script>\n",
              "  </div>\n",
              "\n",
              "\n",
              "    </div>\n",
              "  </div>\n"
            ],
            "application/vnd.google.colaboratory.intrinsic+json": {
              "type": "dataframe",
              "summary": "{\n  \"name\": \"ask(\\\"What is my total sales?\\\")\",\n  \"rows\": 1,\n  \"fields\": [\n    {\n      \"column\": \"SUM(total_sales)\",\n      \"properties\": {\n        \"dtype\": \"number\",\n        \"std\": null,\n        \"min\": 1004904.5599999991,\n        \"max\": 1004904.5599999991,\n        \"num_unique_values\": 1,\n        \"samples\": [\n          1004904.5599999991\n        ],\n        \"semantic_type\": \"\",\n        \"description\": \"\"\n      }\n    }\n  ]\n}"
            }
          },
          "metadata": {},
          "execution_count": 12
        }
      ]
    },
    {
      "cell_type": "code",
      "source": [
        "# 2. Calculate the RoAS (Return on Ad Spend).\n",
        "ask(\"Calculate the RoAS (Return on Ad Spend).\")\n",
        "\n",
        "\n",
        "\n"
      ],
      "metadata": {
        "colab": {
          "base_uri": "https://localhost:8080/",
          "height": 220
        },
        "id": "i14DCuWsuM8Z",
        "outputId": "ed338acc-65be-467b-e275-9b1cc5097264"
      },
      "execution_count": 13,
      "outputs": [
        {
          "output_type": "stream",
          "name": "stdout",
          "text": [
            "\n",
            "User: Calculate the RoAS (Return on Ad Spend).\n",
            "\n",
            "Generated SQL:\n",
            "SELECT CAST(SUM(ad_sales) AS REAL) / SUM(ad_spend) FROM ad_sales\n",
            "\n",
            "Answer:\n",
            "**7.92**\n"
          ]
        },
        {
          "output_type": "execute_result",
          "data": {
            "text/plain": [
              "   CAST(SUM(ad_sales) AS REAL) / SUM(ad_spend)\n",
              "0                                     7.915767"
            ],
            "text/html": [
              "\n",
              "  <div id=\"df-7521d904-c05f-4014-a6d7-c9a1ab7c0380\" class=\"colab-df-container\">\n",
              "    <div>\n",
              "<style scoped>\n",
              "    .dataframe tbody tr th:only-of-type {\n",
              "        vertical-align: middle;\n",
              "    }\n",
              "\n",
              "    .dataframe tbody tr th {\n",
              "        vertical-align: top;\n",
              "    }\n",
              "\n",
              "    .dataframe thead th {\n",
              "        text-align: right;\n",
              "    }\n",
              "</style>\n",
              "<table border=\"1\" class=\"dataframe\">\n",
              "  <thead>\n",
              "    <tr style=\"text-align: right;\">\n",
              "      <th></th>\n",
              "      <th>CAST(SUM(ad_sales) AS REAL) / SUM(ad_spend)</th>\n",
              "    </tr>\n",
              "  </thead>\n",
              "  <tbody>\n",
              "    <tr>\n",
              "      <th>0</th>\n",
              "      <td>7.915767</td>\n",
              "    </tr>\n",
              "  </tbody>\n",
              "</table>\n",
              "</div>\n",
              "    <div class=\"colab-df-buttons\">\n",
              "\n",
              "  <div class=\"colab-df-container\">\n",
              "    <button class=\"colab-df-convert\" onclick=\"convertToInteractive('df-7521d904-c05f-4014-a6d7-c9a1ab7c0380')\"\n",
              "            title=\"Convert this dataframe to an interactive table.\"\n",
              "            style=\"display:none;\">\n",
              "\n",
              "  <svg xmlns=\"http://www.w3.org/2000/svg\" height=\"24px\" viewBox=\"0 -960 960 960\">\n",
              "    <path d=\"M120-120v-720h720v720H120Zm60-500h600v-160H180v160Zm220 220h160v-160H400v160Zm0 220h160v-160H400v160ZM180-400h160v-160H180v160Zm440 0h160v-160H620v160ZM180-180h160v-160H180v160Zm440 0h160v-160H620v160Z\"/>\n",
              "  </svg>\n",
              "    </button>\n",
              "\n",
              "  <style>\n",
              "    .colab-df-container {\n",
              "      display:flex;\n",
              "      gap: 12px;\n",
              "    }\n",
              "\n",
              "    .colab-df-convert {\n",
              "      background-color: #E8F0FE;\n",
              "      border: none;\n",
              "      border-radius: 50%;\n",
              "      cursor: pointer;\n",
              "      display: none;\n",
              "      fill: #1967D2;\n",
              "      height: 32px;\n",
              "      padding: 0 0 0 0;\n",
              "      width: 32px;\n",
              "    }\n",
              "\n",
              "    .colab-df-convert:hover {\n",
              "      background-color: #E2EBFA;\n",
              "      box-shadow: 0px 1px 2px rgba(60, 64, 67, 0.3), 0px 1px 3px 1px rgba(60, 64, 67, 0.15);\n",
              "      fill: #174EA6;\n",
              "    }\n",
              "\n",
              "    .colab-df-buttons div {\n",
              "      margin-bottom: 4px;\n",
              "    }\n",
              "\n",
              "    [theme=dark] .colab-df-convert {\n",
              "      background-color: #3B4455;\n",
              "      fill: #D2E3FC;\n",
              "    }\n",
              "\n",
              "    [theme=dark] .colab-df-convert:hover {\n",
              "      background-color: #434B5C;\n",
              "      box-shadow: 0px 1px 3px 1px rgba(0, 0, 0, 0.15);\n",
              "      filter: drop-shadow(0px 1px 2px rgba(0, 0, 0, 0.3));\n",
              "      fill: #FFFFFF;\n",
              "    }\n",
              "  </style>\n",
              "\n",
              "    <script>\n",
              "      const buttonEl =\n",
              "        document.querySelector('#df-7521d904-c05f-4014-a6d7-c9a1ab7c0380 button.colab-df-convert');\n",
              "      buttonEl.style.display =\n",
              "        google.colab.kernel.accessAllowed ? 'block' : 'none';\n",
              "\n",
              "      async function convertToInteractive(key) {\n",
              "        const element = document.querySelector('#df-7521d904-c05f-4014-a6d7-c9a1ab7c0380');\n",
              "        const dataTable =\n",
              "          await google.colab.kernel.invokeFunction('convertToInteractive',\n",
              "                                                    [key], {});\n",
              "        if (!dataTable) return;\n",
              "\n",
              "        const docLinkHtml = 'Like what you see? Visit the ' +\n",
              "          '<a target=\"_blank\" href=https://colab.research.google.com/notebooks/data_table.ipynb>data table notebook</a>'\n",
              "          + ' to learn more about interactive tables.';\n",
              "        element.innerHTML = '';\n",
              "        dataTable['output_type'] = 'display_data';\n",
              "        await google.colab.output.renderOutput(dataTable, element);\n",
              "        const docLink = document.createElement('div');\n",
              "        docLink.innerHTML = docLinkHtml;\n",
              "        element.appendChild(docLink);\n",
              "      }\n",
              "    </script>\n",
              "  </div>\n",
              "\n",
              "\n",
              "    </div>\n",
              "  </div>\n"
            ],
            "application/vnd.google.colaboratory.intrinsic+json": {
              "type": "dataframe",
              "summary": "{\n  \"name\": \"ask(\\\"Calculate the RoAS (Return on Ad Spend)\",\n  \"rows\": 1,\n  \"fields\": [\n    {\n      \"column\": \"CAST(SUM(ad_sales) AS REAL) / SUM(ad_spend)\",\n      \"properties\": {\n        \"dtype\": \"number\",\n        \"std\": null,\n        \"min\": 7.915767211077883,\n        \"max\": 7.915767211077883,\n        \"num_unique_values\": 1,\n        \"samples\": [\n          7.915767211077883\n        ],\n        \"semantic_type\": \"\",\n        \"description\": \"\"\n      }\n    }\n  ]\n}"
            }
          },
          "metadata": {},
          "execution_count": 13
        }
      ]
    },
    {
      "cell_type": "code",
      "source": [
        "# 3. Which product had the highest CPC (Cost Per Click)?\n",
        "ask(\"Which product had the highest CPC (Cost Per Click)?\")"
      ],
      "metadata": {
        "colab": {
          "base_uri": "https://localhost:8080/",
          "height": 220
        },
        "id": "gKGs34OLuQ8O",
        "outputId": "7a8f3ac9-c34d-4173-95b0-d6e053a609a4"
      },
      "execution_count": 14,
      "outputs": [
        {
          "output_type": "stream",
          "name": "stdout",
          "text": [
            "\n",
            "User: Which product had the highest CPC (Cost Per Click)?\n",
            "\n",
            "Generated SQL:\n",
            "SELECT item_id FROM ad_sales WHERE clicks > 0 ORDER BY CAST(ad_spend AS REAL) / clicks DESC LIMIT 1\n",
            "\n",
            "Answer:\n",
            "22\n"
          ]
        },
        {
          "output_type": "execute_result",
          "data": {
            "text/plain": [
              "   item_id\n",
              "0       22"
            ],
            "text/html": [
              "\n",
              "  <div id=\"df-a858efb6-b474-4a0e-9c0f-9420e94f0f5a\" class=\"colab-df-container\">\n",
              "    <div>\n",
              "<style scoped>\n",
              "    .dataframe tbody tr th:only-of-type {\n",
              "        vertical-align: middle;\n",
              "    }\n",
              "\n",
              "    .dataframe tbody tr th {\n",
              "        vertical-align: top;\n",
              "    }\n",
              "\n",
              "    .dataframe thead th {\n",
              "        text-align: right;\n",
              "    }\n",
              "</style>\n",
              "<table border=\"1\" class=\"dataframe\">\n",
              "  <thead>\n",
              "    <tr style=\"text-align: right;\">\n",
              "      <th></th>\n",
              "      <th>item_id</th>\n",
              "    </tr>\n",
              "  </thead>\n",
              "  <tbody>\n",
              "    <tr>\n",
              "      <th>0</th>\n",
              "      <td>22</td>\n",
              "    </tr>\n",
              "  </tbody>\n",
              "</table>\n",
              "</div>\n",
              "    <div class=\"colab-df-buttons\">\n",
              "\n",
              "  <div class=\"colab-df-container\">\n",
              "    <button class=\"colab-df-convert\" onclick=\"convertToInteractive('df-a858efb6-b474-4a0e-9c0f-9420e94f0f5a')\"\n",
              "            title=\"Convert this dataframe to an interactive table.\"\n",
              "            style=\"display:none;\">\n",
              "\n",
              "  <svg xmlns=\"http://www.w3.org/2000/svg\" height=\"24px\" viewBox=\"0 -960 960 960\">\n",
              "    <path d=\"M120-120v-720h720v720H120Zm60-500h600v-160H180v160Zm220 220h160v-160H400v160Zm0 220h160v-160H400v160ZM180-400h160v-160H180v160Zm440 0h160v-160H620v160ZM180-180h160v-160H180v160Zm440 0h160v-160H620v160Z\"/>\n",
              "  </svg>\n",
              "    </button>\n",
              "\n",
              "  <style>\n",
              "    .colab-df-container {\n",
              "      display:flex;\n",
              "      gap: 12px;\n",
              "    }\n",
              "\n",
              "    .colab-df-convert {\n",
              "      background-color: #E8F0FE;\n",
              "      border: none;\n",
              "      border-radius: 50%;\n",
              "      cursor: pointer;\n",
              "      display: none;\n",
              "      fill: #1967D2;\n",
              "      height: 32px;\n",
              "      padding: 0 0 0 0;\n",
              "      width: 32px;\n",
              "    }\n",
              "\n",
              "    .colab-df-convert:hover {\n",
              "      background-color: #E2EBFA;\n",
              "      box-shadow: 0px 1px 2px rgba(60, 64, 67, 0.3), 0px 1px 3px 1px rgba(60, 64, 67, 0.15);\n",
              "      fill: #174EA6;\n",
              "    }\n",
              "\n",
              "    .colab-df-buttons div {\n",
              "      margin-bottom: 4px;\n",
              "    }\n",
              "\n",
              "    [theme=dark] .colab-df-convert {\n",
              "      background-color: #3B4455;\n",
              "      fill: #D2E3FC;\n",
              "    }\n",
              "\n",
              "    [theme=dark] .colab-df-convert:hover {\n",
              "      background-color: #434B5C;\n",
              "      box-shadow: 0px 1px 3px 1px rgba(0, 0, 0, 0.15);\n",
              "      filter: drop-shadow(0px 1px 2px rgba(0, 0, 0, 0.3));\n",
              "      fill: #FFFFFF;\n",
              "    }\n",
              "  </style>\n",
              "\n",
              "    <script>\n",
              "      const buttonEl =\n",
              "        document.querySelector('#df-a858efb6-b474-4a0e-9c0f-9420e94f0f5a button.colab-df-convert');\n",
              "      buttonEl.style.display =\n",
              "        google.colab.kernel.accessAllowed ? 'block' : 'none';\n",
              "\n",
              "      async function convertToInteractive(key) {\n",
              "        const element = document.querySelector('#df-a858efb6-b474-4a0e-9c0f-9420e94f0f5a');\n",
              "        const dataTable =\n",
              "          await google.colab.kernel.invokeFunction('convertToInteractive',\n",
              "                                                    [key], {});\n",
              "        if (!dataTable) return;\n",
              "\n",
              "        const docLinkHtml = 'Like what you see? Visit the ' +\n",
              "          '<a target=\"_blank\" href=https://colab.research.google.com/notebooks/data_table.ipynb>data table notebook</a>'\n",
              "          + ' to learn more about interactive tables.';\n",
              "        element.innerHTML = '';\n",
              "        dataTable['output_type'] = 'display_data';\n",
              "        await google.colab.output.renderOutput(dataTable, element);\n",
              "        const docLink = document.createElement('div');\n",
              "        docLink.innerHTML = docLinkHtml;\n",
              "        element.appendChild(docLink);\n",
              "      }\n",
              "    </script>\n",
              "  </div>\n",
              "\n",
              "\n",
              "    </div>\n",
              "  </div>\n"
            ],
            "application/vnd.google.colaboratory.intrinsic+json": {
              "type": "dataframe",
              "summary": "{\n  \"name\": \"ask(\\\"Which product had the highest CPC (Cost Per Click)?\\\")\",\n  \"rows\": 1,\n  \"fields\": [\n    {\n      \"column\": \"item_id\",\n      \"properties\": {\n        \"dtype\": \"number\",\n        \"std\": null,\n        \"min\": 22,\n        \"max\": 22,\n        \"num_unique_values\": 1,\n        \"samples\": [\n          22\n        ],\n        \"semantic_type\": \"\",\n        \"description\": \"\"\n      }\n    }\n  ]\n}"
            }
          },
          "metadata": {},
          "execution_count": 14
        }
      ]
    }
  ]
}